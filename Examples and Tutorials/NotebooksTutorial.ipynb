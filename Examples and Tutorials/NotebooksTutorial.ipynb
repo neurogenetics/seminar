{
 "cells": [
  {
   "cell_type": "markdown",
   "metadata": {},
   "source": [
    "<img src = \"Pictures/nih_logo.jpg\" width = \"200\" height = \"100\" align = \"left\"/>\n",
    "<img src = \"Pictures/jupyter_logo.png\" width = \"200\" height = \"100\" align = \"right\"/>"
   ]
  },
  {
   "cell_type": "markdown",
   "metadata": {},
   "source": [
    "# How to use Jupyter Notebooks\n",
    "\n",
    "Jupyter Notebooks It is a combination of notebook documents, which in it of themselves are a combination of code and plaintext, and a web browser. The move to a browser allows you to both display your findings using a multitude of graphs and other people to make changes to the code in the document and perform their own experiments using your data. However the documents are only accessible by others if you put the notebook file, or .ipynb file, in a public place, so it’s ok to put sensitive data. The notebook files are able to be exported as PDF, HTML, MarkDown, and many other formats after its creation.\n",
    "\n",
    "\n",
    "\n",
    "## Installing Jupyter Notebooks\n",
    "\n",
    "Installing Jupyter Notebooks requires that Python, version 3.3 or greater or version 2.7 or greater, already be installed. \n",
    "\n",
    "It is recommended that you [install Anaconda]( https://www.anaconda.com/download/#macos), you not only get access to Jupyter Notebooks, but also Python and many libraries that are used in both data analysis and creating graphs to represent the data. Once anaconda has been installed, you can either open the Anaconda Navigator and select Jupyter Notebook, or you can type the command “jupyter notebook” into the terminal.\n",
    "\n",
    "Alternatively, you can use python to install Jupyter. To do this you need to have pip, Python’s package manager, already installed. You can refer to [this website](https://jupyter.readthedocs.io/en/latest/install.html#id4) for more information.\n",
    "\n",
    "* * *\n",
    "## Creating a notebook\n",
    "\n",
    "Once you have started the application, you will be brought to the dash board. The dash board has three tabs: Files, Running, and Clusters. The only tabs you need to worry about are Files and Running. \n",
    "\n",
    "The Files tab shows all of your files, this allows you to navigate to the folder you would like to create a new notebook in or open a previously made notebook.\n",
    "\n",
    "<img src = \"Pictures/dashboard_file_tab.png\" />\n",
    "\n",
    "To create a new notebook, select the dropdown menu in the top right of the page labeled “New”. You can select the type of notebook you want to create, this decides what language all of your code will be interpreted as. I will be using a Python 3 notebook for the rest of this tutorial however you can make notebooks in most other languages including R.\n",
    "\n",
    "<img src = \"Pictures/notebooks_new_menu.png\" />\n",
    "\n",
    "The Running tab shows you what notebooks are running. Since it is a web-based application, your computer can run the notebook without it being open. You can shut down the file from the Running tab, or when you close the notebook, close through File > Close and Halt.\n",
    "\n",
    "* * *\n",
    "## Using notebooks\n",
    "\n",
    "Once you have created a new notebook, you will see its most prominent feature, the cell. Cells in notebooks hold a single form of data type. They can either be code cells, which depend on the type of notebook you have created, or markdown cells, which allow you to have plaintext in your document. A cell’s type can be changed by first selecting the cell, then going to Cell > Cell Type and selecting the type of cell you want it to be. Each cell has two modes: Edit mode and Command mode. Edit mode allows you to edit the cell while Command mode allows you to move between cells and run them.\n",
    "\n",
    "* * *\n",
    "## Using Markdown\n",
    "The plaintext that you see on the screen is written in Markdown. Markdown is a Markup language, similar to HTML, which allows you to insert links, pictures, tables, lists, headers, and more into simple text.\n",
    "\n",
    "### Markdown Basics\n",
    "*Italics* and **Bolding** are used by putting one or two asterisks respectively around the text like so: \\*italics\\*        \\**bold\\**\n",
    "\n",
    "You can create two kinds of lists, ordered and unordered lists. You can mark the elements of an unordered list with any of the following characters:\n",
    "\n",
    "* Asterisks(*)\n",
    "- Hyphens(-)\n",
    "+ Plus(+)\n",
    "\n",
    "Ordered Lists require that you put a number, doesn’t matter what, followed by a period. Ex:\n",
    "\n",
    "1\\. One\n",
    "\n",
    "3\\. Three\n",
    "\n",
    "564\\. Five hundred sixty-four\n",
    "\n",
    "Produces:\n",
    "\n",
    "1. One\n",
    "3. Three\n",
    "564. Five hundred sixty-four\n",
    "\n",
    "Headers can be created by using the hash/pound character \\#. One hash indicates the largest heading and adding more makes them smaller up until heading five. Ex:\n",
    "\n",
    "\\# Heading 1\n",
    "\n",
    "\\## Heading 2 \n",
    "\n",
    "Produces:\n",
    "\n",
    "# Heading 1\n",
    "## Heading 2\n",
    "\n",
    "* * *\n",
    "\n",
    "### Other tools\n",
    "\n",
    "You can add links to documents by adding square brackets around the text you want to use as the link, and then copy and paste the url in parenthesis right after the square brackets ex:\n",
    "[To markdown tutorial](https://github.com/jupyter/notebook/blob/3b84442f214e28296f0affd79699ca26f44790c1/docs/source/examples/Notebook/Working%20With%20Markdown%20Cells.ipynb) is written:\n",
    "\\[To markdown tutorial\\]\n",
    "\\(https://github.com/jupyter/notebook/blob/3b84442f214e28296f0affd79699ca26f44790c1/docs/source/examples/Notebook/Working%20With%20Markdown%20Cells.ipynb)\\\n",
    "\n",
    "Tables can be created using a combinataion of these characters: \\| and \\-.\n",
    "You simply make a box with these characters around the data to create the table:\n",
    "\n",
    "|Header 1 | Header 2|\n",
    "|---------|---------|\n",
    "|data 1.1 |data 2.1 |\n",
    "|data 1.2 |data 2.2 |\n",
    "\n",
    "Pictures are easy to add, just make sure that this file is at the same directory or the picture is in a subdirectory of the notebook's directory. You can add a photo by typing in triangle brackets \"<img src = \"path to file\"/\\>\" ex:\n",
    "\n",
    "<img src = \"Pictures/nih_logo.jpg\" /\\>\n",
    "\n",
    "Produces:\n",
    "\n",
    "<img src = \"Pictures/nih_logo.jpg\" />\n",
    "\n",
    "For those who use complex equations, Markdown allows you to write those using [MathJax](https://math.meta.stackexchange.com/questions/5020/mathjax-basic-tutorial-and-quick-reference) and easily get equations on the page. Ex:\n",
    "\n",
    "x = {-b \\pm \\sqrt{b^2-4ac} \\over 2a}\n",
    "\n",
    "Produces:\n",
    "\n",
    "$$x = {-b \\pm \\sqrt{b^2-4ac} \\over 2a}$$\n",
    "\n",
    "\n",
    "\n",
    "\n",
    "* * *\n",
    "## Using Code\n",
    "\n",
    "You can enter code by creating a new cell via the insert tab and making sure that the code is in the correct language. You can run the code by either hitting the run button or by using the shortcuts shown in Help > Keyboard Shortcuts. "
   ]
  },
  {
   "cell_type": "code",
   "execution_count": 3,
   "metadata": {
    "scrolled": true
   },
   "outputs": [
    {
     "data": {
      "image/png": "[encoded data removed]",
      "text/plain": [
       "<Figure size 432x288 with 1 Axes>"
      ]
     },
     "metadata": {},
     "output_type": "display_data"
    }
   ],
   "source": [
    "import matplotlib.pyplot as plt\n",
    "\n",
    "x = [i/25 for i in range(100)]\n",
    "y1 = [function1(i) for i in x]\n",
    "y2 = [function2(i) for i in x]\n",
    "y3 = [function3(i) for i in x]\n",
    "\n",
    "plt.plot(x,y1,color = \"red\")\n",
    "plt.plot(x,y2,color = \"blue\")\n",
    "plt.plot(x,y3,color = \"green\")\n",
    "plt.show()"
   ]
  },
  {
   "cell_type": "markdown",
   "metadata": {},
   "source": [
    "Once the code is run, it's resulting output is shown below it. If you were to be view the actual notebook, you would be able to change the code and run it again. However this is not the case if you are viewing from an HTML or PDF file.\n",
    "\n",
    "If you notice, there are numbers in the top left of the code cells. \n",
    "\n",
    "<img src = \"Pictures/code_number.png\" />\n",
    "\n",
    "This shows the order in which each cell has run. This makes it so that code does not need to be in linear order and methods defined later in the document can be used eariler. For instance, the methods that are used to make the graph above are defined below. This is because the number next to In is lower in the cell below meaning that it was run before the cell above. "
   ]
  },
  {
   "cell_type": "code",
   "execution_count": 2,
   "metadata": {},
   "outputs": [],
   "source": [
    "def function1(x):\n",
    "    return x ** 2\n",
    "\n",
    "def function2(x):\n",
    "    return x * 2\n",
    "\n",
    "def function3(x):\n",
    "    return x**3 /3\n"
   ]
  },
  {
   "cell_type": "markdown",
   "metadata": {},
   "source": [
    "* * *\n",
    "\n",
    "## Using Matplotlib\n",
    "\n",
    "Matplotlib is an opensource python library that allows for the use of a wide variety of graphs and customization as a way to display your data to the user. The library comes with Anaconda, if you downloaded Jupyter Notebooks through Anaconda then you already have matplotlib, otherwise you can get it from the [matplotlib github](https://github.com/matplotlib/matplotlib).\n",
    "\n",
    "If you are going to use the library, you first need to import it, however importing the whole library is not a good idea as the entire thing is huge. It is recomended that you only import the smaller sections of the library that you need. For this introduction we will be using pyplot only, meaning that in order to import it you would simply type:\n",
    "\n",
    "`import matplotlib.pyplot`\n",
    "\n",
    "However typing matplotlib.pyplot every time you want to access a method is tedious. Luckily you can use the \"as\" keyword to change the name. The typical abbreviation for this is plt, however you can change it to whatever you want as long as there are no spaces. To change it you would just type:\n",
    "\n",
    "`import matplotlib.pyplot as plt`\n",
    "\n",
    "After you have created all the graphs and plots that you want, you still need to tell plt that you want it to show. This can be done easily by typing:\n",
    "\n",
    "`plt.show()`\n",
    "\n",
    "### Different types of plots\n",
    "\n",
    "Line, Bar, and Scatter plots are some of the easiest plots to create.\n",
    "\n",
    "The line plot uses the [.plot()](https://matplotlib.org/api/_as_gen/matplotlib.pyplot.plot.html#matplotlib.pyplot.plot) method which accepts these arguments:\n",
    "*\tX - the x values for your data\n",
    "*\tY - the y values for your data\n",
    "*\tColor – the color of the line on that graph\n",
    "\n",
    "The bar plot uses the [.bar()](https://matplotlib.org/api/_as_gen/matplotlib.pyplot.bar.html#matplotlib.pyplot.bar) method which accepts these arguments:\n",
    "*\tX – the x coordinates of the bars, sequence recommended\n",
    "*\tHeight – the height/data of the bars\n",
    "*\tWidth – the width of the bars\n",
    "*\tBottom – the height from the axis and the bottom of the bars\n",
    "*\tXerr/yerr – error bars for the bars\n",
    "    *\tSingle number – same error for all bars\n",
    "    *\tList of numbers – same +/- error for each bar\n",
    "    *\t2D List of numbers – different +/- error for each bar\n",
    "\n",
    "The scatter plot uses the [.scatter()](https://matplotlib.org/api/_as_gen/matplotlib.pyplot.scatter.html#matplotlib.pyplot.scatter) method which accepts these arguments:\n",
    "*\tX – x coordinates of the data\n",
    "*\tY – y coordinates of the data\n",
    "*\tMarker – the style of the data points on the graph\n",
    "*\tC – color of the data points\n",
    "\n",
    "You can get multiple plots in the same space by using the [.subplot()](https://matplotlib.org/api/_as_gen/matplotlib.pyplot.subplot.html#matplotlib.pyplot.subplot) method. This creates a projection in a grid like fashion where plots or other subplots can be created.  The method accepts the following arguments:\n",
    "*\tNrows – number of rows in the grid\n",
    "*\tNcols – number of columns in the grid\n",
    "*\tIndex – a single value number for the place of the graph. It is counted left to right then top to bottom.\n",
    "\n",
    "Here is an example of all four of these methods:\n",
    "\n"
   ]
  },
  {
   "cell_type": "code",
   "execution_count": 12,
   "metadata": {
    "scrolled": true
   },
   "outputs": [
    {
     "data": {
      "image/png": "[encoded data removed]",
      "text/plain": [
       "<Figure size 432x288 with 3 Axes>"
      ]
     },
     "metadata": {},
     "output_type": "display_data"
    }
   ],
   "source": [
    "import matplotlib.pyplot as plt\n",
    "\n",
    "indices = range(-9,10)\n",
    "data = [i*i for i in indices]\n",
    "\n",
    "#creates a line plot in the left most subplot\n",
    "plt.subplot(1,3,1)\n",
    "plt.plot(indices,data)\n",
    "\n",
    "#creates a bar plot in the middle plot\n",
    "plt.subplot(1,3,2)\n",
    "plt.bar(indices,data)\n",
    "\n",
    "#creates a scatter plot in the right most plot\n",
    "plt.subplot(1,3,3)\n",
    "plt.scatter(indices,data)\n",
    "\n",
    "plt.suptitle(\"Example Graphs\")\n",
    "\n",
    "plt.show()"
   ]
  },
  {
   "cell_type": "markdown",
   "metadata": {},
   "source": [
    "**Note**: the subplot must be changed before, not after, you create your plot in order for it to create the plot in the correct location\n",
    "\n",
    "* * *\n",
    "\n",
    "## Downloading as a file\n",
    "\n",
    "Jupyter Notebooks allows you to download notebooks as different file types. You can access this feature by going to File > Download As and selecting the type of file you want. Converting files to these formats gives people who are not familiar with Jupyter Notebooks something simple like a PDF document to read. **Note**: Documents that are converted from the .ipynb file type will not support the use of pictures as the notebook does not store the picutre's data in the file.\n",
    "\n",
    "For further documentation you can go to <a href=\"https://jupyter-notebook.readthedocs.io/en/stable/index.html\" target=\"_blank\">the official notebook doccumentation</a>."
   ]
  }
 ],
 "metadata": {
  "kernelspec": {
   "display_name": "Python [default]",
   "language": "python",
   "name": "python3"
  },
  "language_info": {
   "codemirror_mode": {
    "name": "ipython",
    "version": 3
   },
   "file_extension": ".py",
   "mimetype": "text/x-python",
   "name": "python",
   "nbconvert_exporter": "python",
   "pygments_lexer": "ipython3",
   "version": "3.6.5"
  }
 },
 "nbformat": 4,
 "nbformat_minor": 2
}
